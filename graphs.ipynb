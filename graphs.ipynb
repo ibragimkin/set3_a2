import pandas as pd
import matplotlib.pyplot as plt

# Загрузка данных
random_data = pd.read_csv('random_sort_times.csv')
reverse_data = pd.read_csv('reverse_sort_times.csv')
almost_sorted_data = pd.read_csv('almost_sorted_sort_times.csv')

# Определение пороговых значений (должны соответствовать тем, что использовались в C++)
thresholds = [5, 10, 20, 30, 50]

def plot_data(data, title, thresholds):
    plt.figure(figsize=(12, 8))
    plt.plot(data['Size'], data['MergeSort(ms)'], label='MergeSort', marker='o')

    for threshold in thresholds:
        column_name = f'MergeInsertionSort_Threshold{threshold}(ms)'
        if column_name in data.columns:
            plt.plot(data['Size'], data[column_name], label=f'Merge+InsertionSort (threshold={threshold})', marker='x')
        else:
            print(f"Внимание: Столбец '{column_name}' отсутствует в данных.")

    plt.xlabel('Размер массива')
    plt.ylabel('Время выполнения (мкс)')
    plt.title(title)
    plt.legend()
    plt.grid(True)
    plt.tight_layout()
    plt.show()

# Построение графиков
plot_data(random_data, 'Сортировка случайных массивов', thresholds)
plot_data(reverse_data, 'Сортировка обратно отсортированных массивов', thresholds)
plot_data(almost_sorted_data, 'Сортировка почти отсортированных массивов', thresholds)
